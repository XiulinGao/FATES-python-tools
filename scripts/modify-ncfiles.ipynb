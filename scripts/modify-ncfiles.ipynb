{
 "cells": [
  {
   "cell_type": "code",
   "execution_count": 42,
   "id": "7b63d2a8-3f26-4ccb-b6fb-65caff4ba93b",
   "metadata": {},
   "outputs": [],
   "source": [
    "import netCDF4 as nc\n",
    "import numpy as np"
   ]
  },
  {
   "cell_type": "code",
   "execution_count": 43,
   "id": "5249512b-b2c7-4aaf-9309-ee7d239e1322",
   "metadata": {},
   "outputs": [],
   "source": [
    "ref_path = '/glade/work/xiugao/fates-input/vaira-1pt/cheyenne-alt.nc'\n",
    "targ_path = '/glade/work/xiugao/fates-input/vaira-1pt/derecho-default.nc'"
   ]
  },
  {
   "cell_type": "code",
   "execution_count": 45,
   "id": "f1a92c32-656b-422b-909f-c400a64d9e3e",
   "metadata": {
    "scrolled": true
   },
   "outputs": [
    {
     "name": "stdout",
     "output_type": "stream",
     "text": [
      "Variable 'fates_history_sizeclass_bin_edges' has different shapes in the files.\n",
      "Variable 'fates_landuseclass_name' not found in the reference file.\n",
      "Variable 'fates_maxpatches_by_landuse' not found in the reference file.\n",
      "Variable 'fates_maintresp_reduction_upthresh' not found in the reference file.\n",
      "Variable 'fates_mort_upthresh_cstarvation' not found in the reference file.\n",
      "Variable 'fates_phen_drought_threshold' has different shapes in the files.\n",
      "Variable 'fates_phen_fnrt_drop_fraction' not found in the reference file.\n",
      "Variable 'fates_phen_mindaysoff' has different shapes in the files.\n",
      "Variable 'fates_phen_moist_threshold' has different shapes in the files.\n",
      "Variable 'fates_seed_dispersal_fraction' not found in the reference file.\n",
      "Variable 'fates_seed_dispersal_max_dist' not found in the reference file.\n",
      "Variable 'fates_seed_dispersal_pdf_scale' not found in the reference file.\n",
      "Variable 'fates_seed_dispersal_pdf_shape' not found in the reference file.\n",
      "Variable 'fates_trs_repro_alloc_a' not found in the reference file.\n",
      "Variable 'fates_trs_repro_alloc_b' not found in the reference file.\n",
      "Variable 'fates_trs_repro_frac_seed' not found in the reference file.\n",
      "Variable 'fates_trs_seedling_a_emerg' not found in the reference file.\n",
      "Variable 'fates_trs_seedling_b_emerg' not found in the reference file.\n",
      "Variable 'fates_trs_seedling_background_mort' not found in the reference file.\n",
      "Variable 'fates_trs_seedling_h2o_mort_a' not found in the reference file.\n",
      "Variable 'fates_trs_seedling_h2o_mort_b' not found in the reference file.\n",
      "Variable 'fates_trs_seedling_h2o_mort_c' not found in the reference file.\n",
      "Variable 'fates_trs_seedling_light_mort_a' not found in the reference file.\n",
      "Variable 'fates_trs_seedling_light_mort_b' not found in the reference file.\n",
      "Variable 'fates_trs_seedling_light_rec_a' not found in the reference file.\n",
      "Variable 'fates_trs_seedling_light_rec_b' not found in the reference file.\n",
      "Variable 'fates_trs_seedling_mdd_crit' not found in the reference file.\n",
      "Variable 'fates_trs_seedling_par_crit_germ' not found in the reference file.\n",
      "Variable 'fates_trs_seedling_psi_crit' not found in the reference file.\n",
      "Variable 'fates_trs_seedling_psi_emerg' not found in the reference file.\n",
      "Variable 'fates_trs_seedling_root_depth' not found in the reference file.\n"
     ]
    },
    {
     "ename": "IndexError",
     "evalue": "too many indices for array",
     "output_type": "error",
     "traceback": [
      "\u001b[0;31m---------------------------------------------------------------------------\u001b[0m",
      "\u001b[0;31mIndexError\u001b[0m                                Traceback (most recent call last)",
      "\u001b[0;32m/glade/derecho/scratch/xiugao/tmp/ipykernel_33555/2646079082.py\u001b[0m in \u001b[0;36m<module>\u001b[0;34m\u001b[0m\n\u001b[1;32m     10\u001b[0m                 \u001b[0mdiff\u001b[0m \u001b[0;34m=\u001b[0m \u001b[0mnp\u001b[0m\u001b[0;34m.\u001b[0m\u001b[0mwhere\u001b[0m\u001b[0;34m(\u001b[0m\u001b[0mvar_ref\u001b[0m \u001b[0;34m!=\u001b[0m \u001b[0mvar_targ\u001b[0m\u001b[0;34m)\u001b[0m\u001b[0;34m\u001b[0m\u001b[0;34m\u001b[0m\u001b[0m\n\u001b[1;32m     11\u001b[0m                 \u001b[0;31m#modify value in the target where it differes from the reference\u001b[0m\u001b[0;34m\u001b[0m\u001b[0;34m\u001b[0m\u001b[0;34m\u001b[0m\u001b[0m\n\u001b[0;32m---> 12\u001b[0;31m                 \u001b[0mvar_targ\u001b[0m\u001b[0;34m[\u001b[0m\u001b[0mdiff\u001b[0m\u001b[0;34m]\u001b[0m \u001b[0;34m=\u001b[0m \u001b[0mvar_ref\u001b[0m\u001b[0;34m[\u001b[0m\u001b[0mdiff\u001b[0m\u001b[0;34m]\u001b[0m\u001b[0;34m\u001b[0m\u001b[0;34m\u001b[0m\u001b[0m\n\u001b[0m\u001b[1;32m     13\u001b[0m                 \u001b[0;31m#update variable in target\u001b[0m\u001b[0;34m\u001b[0m\u001b[0;34m\u001b[0m\u001b[0;34m\u001b[0m\u001b[0m\n\u001b[1;32m     14\u001b[0m                 \u001b[0mtarg\u001b[0m\u001b[0;34m.\u001b[0m\u001b[0mvariables\u001b[0m\u001b[0;34m[\u001b[0m\u001b[0mvar_name\u001b[0m\u001b[0;34m]\u001b[0m\u001b[0;34m[\u001b[0m\u001b[0;34m:\u001b[0m\u001b[0;34m]\u001b[0m \u001b[0;34m=\u001b[0m \u001b[0mvar_targ\u001b[0m\u001b[0;34m\u001b[0m\u001b[0;34m\u001b[0m\u001b[0m\n",
      "\u001b[0;32m/glade/work/xiugao/conda-envs/ctsm_py/lib/python3.7/site-packages/numpy/ma/core.py\u001b[0m in \u001b[0;36m__getitem__\u001b[0;34m(self, indx)\u001b[0m\n\u001b[1;32m   3186\u001b[0m         \u001b[0;31m# mask of being reshaped if it hasn't been set up properly yet\u001b[0m\u001b[0;34m\u001b[0m\u001b[0;34m\u001b[0m\u001b[0;34m\u001b[0m\u001b[0m\n\u001b[1;32m   3187\u001b[0m         \u001b[0;31m# So it's easier to stick to the current version\u001b[0m\u001b[0;34m\u001b[0m\u001b[0;34m\u001b[0m\u001b[0;34m\u001b[0m\u001b[0m\n\u001b[0;32m-> 3188\u001b[0;31m         \u001b[0mdout\u001b[0m \u001b[0;34m=\u001b[0m \u001b[0mself\u001b[0m\u001b[0;34m.\u001b[0m\u001b[0mdata\u001b[0m\u001b[0;34m[\u001b[0m\u001b[0mindx\u001b[0m\u001b[0;34m]\u001b[0m\u001b[0;34m\u001b[0m\u001b[0;34m\u001b[0m\u001b[0m\n\u001b[0m\u001b[1;32m   3189\u001b[0m         \u001b[0m_mask\u001b[0m \u001b[0;34m=\u001b[0m \u001b[0mself\u001b[0m\u001b[0;34m.\u001b[0m\u001b[0m_mask\u001b[0m\u001b[0;34m\u001b[0m\u001b[0;34m\u001b[0m\u001b[0m\n\u001b[1;32m   3190\u001b[0m \u001b[0;34m\u001b[0m\u001b[0m\n",
      "\u001b[0;31mIndexError\u001b[0m: too many indices for array"
     ]
    }
   ],
   "source": [
    "#open NetCDF file\n",
    "#r+ with write access while r read-only\n",
    "with nc.Dataset(targ_path, 'r+') as targ, nc.Dataset(ref_path,'r') as ref:\n",
    "    for var_name in targ.variables:\n",
    "        if var_name in ref.variables:\n",
    "            var_ref  = ref.variables[var_name][:]\n",
    "            var_targ = targ.variables[var_name][:]\n",
    "            #check if the shapes are the same\n",
    "            if var_ref.shape == var_targ.shape:\n",
    "                diff = np.where(var_ref != var_targ)\n",
    "                #modify value in the target where it differes from the reference\n",
    "                var_targ[diff] = var_ref[diff]\n",
    "                #update variable in target\n",
    "                targ.variables[var_name][:] = var_targ\n",
    "            else:\n",
    "                print(f\"Variable '{var_name}' has different shapes in the files.\")\n",
    "        else:\n",
    "            print(f\"Variable '{var_name}' not found in the reference file.\")\n",
    "\n",
    "\n",
    "    "
   ]
  },
  {
   "cell_type": "code",
   "execution_count": 59,
   "id": "a5686168-eb43-4dc7-8298-50c8bdbd0685",
   "metadata": {},
   "outputs": [
    {
     "name": "stdout",
     "output_type": "stream",
     "text": [
      "(4, 2)\n",
      "[0.04  0.04  0.024 0.024]\n",
      "[0.0184375 0.0122662 0.015     0.015    ]\n",
      "(array([0, 0, 1, 1]), array([0, 1, 0, 1]))\n",
      "[[4.0e-02 4.0e-02]\n",
      " [2.4e-02 2.4e-02]\n",
      " [1.0e-08 1.0e-08]\n",
      " [4.7e-03 4.7e-03]]\n",
      "[[1.84375000e-02 1.22662037e-02]\n",
      " [1.50000000e-02 1.50000000e-02]\n",
      " [1.00000000e-08 1.00000000e-08]\n",
      " [4.70000000e-03 4.70000000e-03]]\n"
     ]
    }
   ],
   "source": [
    "targ = nc.Dataset(targ_path)\n",
    "var = targ.variables['fates_stoich_nitr'][:]\n",
    "var[:]\n",
    "shp = var.shape\n",
    "\n",
    "ref = nc.Dataset(ref_path)\n",
    "var1 = ref.variables['fates_stoich_nitr'][:]\n",
    "shp1 = var.shape\n",
    "print(shp1)\n",
    "\n",
    "dif = np.where(var != var1)\n",
    "print(var[dif])\n",
    "print(var1[dif])\n",
    "print(dif)\n",
    "#var[dif] = var1[dif]\n",
    "print(var)\n",
    "print(var1)\n",
    "\n"
   ]
  }
 ],
 "metadata": {
  "kernelspec": {
   "display_name": "Python [conda env:ctsm_py]",
   "language": "python",
   "name": "conda-env-ctsm_py-py"
  },
  "language_info": {
   "codemirror_mode": {
    "name": "ipython",
    "version": 3
   },
   "file_extension": ".py",
   "mimetype": "text/x-python",
   "name": "python",
   "nbconvert_exporter": "python",
   "pygments_lexer": "ipython3",
   "version": "3.7.9"
  }
 },
 "nbformat": 4,
 "nbformat_minor": 5
}
